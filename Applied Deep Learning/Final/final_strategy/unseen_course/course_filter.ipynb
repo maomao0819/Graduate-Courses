{
 "cells": [
  {
   "cell_type": "markdown",
   "metadata": {},
   "source": [
    "# Using Simple Statistics to Select More Likely Courses"
   ]
  },
  {
   "cell_type": "code",
   "execution_count": 11,
   "metadata": {},
   "outputs": [],
   "source": [
    "import jsonlines\n",
    "import pandas as pd\n",
    "import json\n",
    "import csv\n",
    "import torch\n",
    "import numpy as np\n",
    "import matplotlib.pyplot as plt\n",
    "from sentence_transformers import SentenceTransformer,util\n",
    "from tqdm import tqdm, trange\n",
    "from utils import *\n",
    "\n",
    "course = load_from_pickle(\"./data/course\")\n",
    "'''\n",
    "get statistics infomation form trian,eval dataset\n",
    "'''\n",
    "# write_to_pickle('./data/train',pd.read_csv('./data/train.csv'))\n",
    "# write_to_pickle('./data/val_unseen',pd.read_csv('./data/val_unseen.csv'))\n",
    "# write_to_pickle('./data/val_seen',pd.read_csv('./data/val_seen.csv'))\n",
    "train = load_from_pickle('./data/train')\n",
    "val_seen = load_from_pickle('./data/val_seen')\n",
    "val_unseen = load_from_pickle('./data/val_unseen')\n",
    "id2index = {k:i for i,k in enumerate(course.index.values)}"
   ]
  },
  {
   "cell_type": "code",
   "execution_count": 13,
   "metadata": {},
   "outputs": [
    {
     "name": "stdout",
     "output_type": "stream",
     "text": [
      "top course in train set:\n",
      " [533 501 560 500 603 502 425 599 426 424 573 631 531 644 624 563 496 391\n",
      " 524 569 530 557 620 616 613 638 416 314 586 652 226 126  70 270 614 185\n",
      " 288 625 287 653 589 632 593 627 159 462 590 591 509 580] \n",
      "\n",
      "top course in val_seen set:\n",
      " [665 664 656 500 501 502 603 686 681 599 683 688 425 699 667 692 560 533\n",
      " 687 672 424 691 426 682 680 650 557 524 454 569 644 670 314 631 663 267\n",
      " 332 509 496  70 675 416 522 391 476 531 689 155 590 287] \n",
      "\n",
      "top course in val_unseen set:\n",
      " [686 699 501 500 502 656 665 603 599 425 533 664 683 650 692 560 667 631\n",
      " 524 426 681 424 496 557 126 688 288 672 416 569 670 680 691 314 155 159\n",
      " 267  70 682 287 687 698 391 531 509 454 516 191 226 644] \n",
      "\n",
      "free course :\n",
      " [391 424 425 426 500 501 502 530 531 533 560 603 656 664 665 673]\n"
     ]
    }
   ],
   "source": [
    "es = [x.split(' ') for x in val_unseen['course_id'].values]\n",
    "val_unseen_id = [list(map(lambda x:id2index[x], x)) if x != [''] else [] for x in es]\n",
    "\n",
    "es = [x.split(' ') for x in val_seen['course_id'].values]\n",
    "val_seen_id = [list(map(lambda x:id2index[x], x)) if x != [''] else [] for x in es]\n",
    "\n",
    "es = [x.split(' ') for x in train['course_id'].values]\n",
    "train_id = [list(map(lambda x:id2index[x], x)) if x != [''] else [] for x in es]\n",
    "\n",
    "\n",
    "train_class = [item for sublist in train_id for item in sublist]\n",
    "val_unseen_id_class =  [item for sublist in val_unseen_id for item in sublist]\n",
    "val_seen_id_class =  [item for sublist in val_seen_id for item in sublist]\n",
    "\n",
    "train_class_stat = [0]*728\n",
    "eval_unseen_class_stat = [0]*728\n",
    "eval_seen_class_stat = [0]*728\n",
    "\n",
    "for i in train_class:\n",
    "    train_class_stat[i]+=1\n",
    "\n",
    "for i in val_unseen_id_class:\n",
    "    eval_unseen_class_stat[i]+=1\n",
    "\n",
    "for i in val_seen_id_class:\n",
    "    eval_seen_class_stat[i]+=1\n",
    "\n",
    "train_class_stat =  np.divide(train_class_stat , len(train_id))\n",
    "eval_unseen_class_stat  =  np.divide(eval_unseen_class_stat , len(val_unseen_id))\n",
    "eval_seen_class_stat  =  np.divide(eval_seen_class_stat , len(val_seen_id))\n",
    "\n",
    "train_top = np.argsort(train_class_stat)[::-1][:50]\n",
    "eval_unseen_top = np.argsort(eval_unseen_class_stat)[::-1][:50]\n",
    "eval_seen_top = np.argsort(eval_seen_class_stat)[::-1][:50]\n",
    "print(\"top course in train set:\\n\",train_top,'\\n')\n",
    "print(\"top course in val_seen set:\\n\",eval_seen_top,'\\n')\n",
    "print(\"top course in val_unseen set:\\n\",eval_unseen_top,'\\n')\n",
    "print(\"free course :\\n\",np.where(course.course_price.values == 0)[0])\n",
    "\n"
   ]
  }
 ],
 "metadata": {
  "kernelspec": {
   "display_name": "adl",
   "language": "python",
   "name": "python3"
  },
  "language_info": {
   "codemirror_mode": {
    "name": "ipython",
    "version": 3
   },
   "file_extension": ".py",
   "mimetype": "text/x-python",
   "name": "python",
   "nbconvert_exporter": "python",
   "pygments_lexer": "ipython3",
   "version": "3.8.13 (default, Oct 21 2022, 23:50:54) \n[GCC 11.2.0]"
  },
  "orig_nbformat": 4,
  "vscode": {
   "interpreter": {
    "hash": "2b8342dc7eb55f317299c826e768d4a74448ec8e4c3c130a975dcf70ffcf0999"
   }
  }
 },
 "nbformat": 4,
 "nbformat_minor": 2
}
